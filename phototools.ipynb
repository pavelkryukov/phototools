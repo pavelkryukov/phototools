{
 "cells": [
  {
   "cell_type": "code",
   "execution_count": 1,
   "metadata": {},
   "outputs": [],
   "source": [
    "# Returns global paths to all *.jpg files in directory\n",
    "def get_jpegs(path):\n",
    "    import glob\n",
    "    return glob.iglob(path + '**/*.jpg', recursive=True)"
   ]
  },
  {
   "cell_type": "code",
   "execution_count": 2,
   "metadata": {},
   "outputs": [],
   "source": [
    "# Converts data to paths\n",
    "def date_to_path(data):\n",
    "    import datetime\n",
    "    return datetime.datetime.strptime(data, '%Y:%m:%d %H:%M:%S').strftime('%Y/%m %B')"
   ]
  },
  {
   "cell_type": "code",
   "execution_count": 3,
   "metadata": {},
   "outputs": [],
   "source": [
    "# Returns EXIF datestamp\n",
    "def get_exif_date(pic):\n",
    "    import PIL.Image\n",
    "    try:\n",
    "        img = PIL.Image.open(pic)\n",
    "    except:\n",
    "        return None\n",
    "    \n",
    "    if not hasattr(img, '_getexif'):\n",
    "        return None\n",
    "    exif_data = img._getexif()\n",
    "    return exif_data.get(36867)"
   ]
  },
  {
   "cell_type": "code",
   "execution_count": 4,
   "metadata": {},
   "outputs": [],
   "source": [
    "# Generates a list of move commands from an SD card to the storage\n",
    "def get_move_commands(src, dst):\n",
    "    import os\n",
    "    for pic in get_jpegs(src):\n",
    "        date = get_exif_date(pic)\n",
    "        if date is not None:\n",
    "            yield (pic, dst + '/' + date_to_path(date) + '/' + os.path.basename(pic))"
   ]
  },
  {
   "cell_type": "code",
   "execution_count": 5,
   "metadata": {},
   "outputs": [],
   "source": [
    "def sha256sum(filename):\n",
    "    import hashlib\n",
    "    h = hashlib.sha256()\n",
    "    with open(filename, 'rb', buffering=0) as f:\n",
    "        for b in iter(lambda : f.read(128*1024), b''):\n",
    "            h.update(b)\n",
    "    return h.hexdigest()"
   ]
  },
  {
   "cell_type": "code",
   "execution_count": 6,
   "metadata": {},
   "outputs": [],
   "source": [
    "# Moves files from an SD card to the storage\n",
    "# The storage will have hiearachied folders like:\n",
    "# \"2010/09 September\"\n",
    "# If file exists already, it is skipped\n",
    "def move_files(src_path, dst_path):\n",
    "    list_of_files = list(get_move_commands(src_path, dst_path))\n",
    "    for (src, dst) in list_of_files:\n",
    "        import os\n",
    "        import shutil\n",
    "        if os.path.isfile(dst):\n",
    "            print ('Skip ' + src + ', ' + dst + ' exists')\n",
    "        else:\n",
    "            os.makedirs(os.path.dirname(dst), exist_ok=True)\n",
    "            shutil.move(src, dst)"
   ]
  },
  {
   "cell_type": "code",
   "execution_count": 7,
   "metadata": {},
   "outputs": [],
   "source": [
    "# Checks if directory has duplicate files\n",
    "# Compares only EXIF + SHA, ignores content\n",
    "# (i.e. ignores photoshoot series)\n",
    "def check_duplicates(path):\n",
    "    results = dict()\n",
    "    n = 0\n",
    "    for pic in get_jpegs(path):\n",
    "        import PIL.Image\n",
    "        if (n % 100) == 0:\n",
    "            print ('photos loaded: ' + str(n))\n",
    "        d = get_exif_data(pic)\n",
    "        if results.get(d) is not None:\n",
    "            if sha256sum(pic) == sha256sum(results.get(d)):\n",
    "                print (pic + ' and ' + results.get(d) + ' are same files')\n",
    "        results[d] = pic\n",
    "        n += 1"
   ]
  },
  {
   "cell_type": "code",
   "execution_count": 8,
   "metadata": {},
   "outputs": [],
   "source": [
    "\n",
    "def check_blurry_image(imagePath):\n",
    "    # load the image, convert it to grayscale, and compute the\n",
    "    # focus measure of the image using the Variance of Laplacian\n",
    "    # method\n",
    "    import cv2\n",
    "    image = cv2.imread(imagePath)\n",
    "    gray = cv2.cvtColor(image, cv2.COLOR_BGR2GRAY)\n",
    "    return cv2.Laplacian(gray, cv2.CV_64F).var()"
   ]
  },
  {
   "cell_type": "code",
   "execution_count": 9,
   "metadata": {},
   "outputs": [],
   "source": [
    "def check_blurry(path):\n",
    "    for pic in get_jpegs(path):\n",
    "        print (pic + ' is ' + str(check_blurry_image(pic)))"
   ]
  },
  {
   "cell_type": "code",
   "execution_count": 14,
   "metadata": {},
   "outputs": [],
   "source": [
    "# Returns imagehash (see https://pypi.org/project/ImageHash/)\n",
    "def get_hash(pic):\n",
    "    import PIL.Image\n",
    "    import imagehash\n",
    "    try:\n",
    "        img = PIL.Image.open(pic)\n",
    "    except:\n",
    "        return None\n",
    "\n",
    "    return imagehash.dhash(img)\n"
   ]
  },
  {
   "cell_type": "code",
   "execution_count": null,
   "metadata": {},
   "outputs": [],
   "source": []
  }
 ],
 "metadata": {
  "kernelspec": {
   "display_name": "Python 3",
   "language": "python",
   "name": "python3"
  },
  "language_info": {
   "codemirror_mode": {
    "name": "ipython",
    "version": 3
   },
   "file_extension": ".py",
   "mimetype": "text/x-python",
   "name": "python",
   "nbconvert_exporter": "python",
   "pygments_lexer": "ipython3",
   "version": "3.6.5"
  }
 },
 "nbformat": 4,
 "nbformat_minor": 2
}
