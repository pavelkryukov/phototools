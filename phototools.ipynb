{
 "cells": [
  {
   "cell_type": "code",
   "execution_count": 1,
   "metadata": {},
   "outputs": [],
   "source": [
    "from phototools import *"
   ]
  },
  {
   "cell_type": "code",
   "execution_count": null,
   "metadata": {},
   "outputs": [],
   "source": [
    "import cv2\n",
    "\n",
    "# Experiemntal code to detect blurry images.\n",
    "# Taken from here: https://www.pyimagesearch.com/2015/09/07/blur-detection-with-opencv/\n",
    "# It does not work as I want, i.e. it does not separate really blurry images\n",
    "# from not-blurry. Maybe I need to merge it with \"takes\" det\n",
    "\n",
    "def check_blurry_image(imagePath):\n",
    "    # load the image, convert it to grayscale, and compute the\n",
    "    # focus measure of the image using the Variance of Laplacian\n",
    "    # method\n",
    "    image = cv2.imread(imagePath)\n",
    "    gray = cv2.cvtColor(image, cv2.COLOR_BGR2GRAY)\n",
    "    return cv2.Laplacian(gray, cv2.CV_64F).var()\n",
    "\n",
    "def check_blurry(path):\n",
    "    for pic in get_jpegs(path):\n",
    "        print (pic + ' is ' + str(check_blurry_image(pic)))"
   ]
  },
  {
   "cell_type": "code",
   "execution_count": null,
   "metadata": {
    "scrolled": true
   },
   "outputs": [],
   "source": [
    "# Moves all \"takes\" to a dedicated folder\n",
    "# Then, I have to check manually and remove redundant pictures\n",
    "# After that I call \"move_all_files\" in a backward direction\n",
    "# so preserved files are returned\n",
    "move_all_takes(\"E:\\\\Negatives\\\\JPG\", \"E:\\\\Negatives\\\\Takes\")"
   ]
  },
  {
   "cell_type": "code",
   "execution_count": null,
   "metadata": {},
   "outputs": [],
   "source": []
  }
 ],
 "metadata": {
  "kernelspec": {
   "display_name": "Python 3",
   "language": "python",
   "name": "python3"
  }
 },
 "nbformat": 4,
 "nbformat_minor": 2
}
