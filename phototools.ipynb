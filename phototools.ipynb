{
 "cells": [
  {
   "cell_type": "code",
   "execution_count": null,
   "metadata": {},
   "outputs": [],
   "source": [
    "import phototools as pt"
   ]
  },
  {
   "cell_type": "code",
   "execution_count": null,
   "metadata": {},
   "outputs": [],
   "source": [
    "import cv2\n",
    "\n",
    "# Experiemntal code to detect blurry images.\n",
    "# Taken from here: https://www.pyimagesearch.com/2015/09/07/blur-detection-with-opencv/\n",
    "# It does not work as I want, i.e. it does not separate really blurry images\n",
    "# from not-blurry. Maybe I need to merge it with \"takes\" detection\n",
    "\n",
    "def check_blurry_image(imagePath):\n",
    "    # load the image, convert it to grayscale, and compute the\n",
    "    # focus measure of the image using the Variance of Laplacian\n",
    "    # method\n",
    "    image = cv2.imread(imagePath)\n",
    "    gray = cv2.cvtColor(image, cv2.COLOR_BGR2GRAY)\n",
    "    return cv2.Laplacian(gray, cv2.CV_64F).var()\n",
    "\n",
    "def check_blurry(path):\n",
    "    for pic in get_jpegs(path):\n",
    "        print (pic + ' is ' + str(check_blurry_image(pic)))"
   ]
  },
  {
   "cell_type": "code",
   "execution_count": null,
   "metadata": {},
   "outputs": [],
   "source": [
    "config.TAKE_SIMILARITY_FACTOR = 1"
   ]
  },
  {
   "cell_type": "code",
   "execution_count": null,
   "metadata": {
    "scrolled": true
   },
   "outputs": [],
   "source": [
    "# Moves all \"takes\" to a dedicated folder\n",
    "# Then, I have to check manually and remove redundant pictures\n",
    "# After that I call \"move_all_files\" in a backward direction\n",
    "# so preserved files are returned\n",
    "for year in range(2018, 2019):\n",
    "    pt.move(pt.takes, \"E:\\\\Negatives\\\\Sorted\\\\\" + str(year), \"E:\\\\Negatives\\\\Takes\")"
   ]
  },
  {
   "cell_type": "code",
   "execution_count": null,
   "metadata": {},
   "outputs": [],
   "source": [
    "pt.move(pt.all, \"E:\\\\Duplicates\", \"E:\\\\Instagram2\")"
   ]
  },
  {
   "cell_type": "code",
   "execution_count": null,
   "metadata": {},
   "outputs": [],
   "source": [
    "pt.move(pt.all, \"E:\\\\Instagram2\", \"E:\\\\Instagram2\")"
   ]
  },
  {
   "cell_type": "code",
   "execution_count": null,
   "metadata": {},
   "outputs": [],
   "source": []
  }
 ],
 "metadata": {
  "kernelspec": {
   "display_name": "Python 3",
   "language": "python",
   "name": "python3"
  },
  "language_info": {
   "codemirror_mode": {
    "name": "ipython",
    "version": 3
   },
   "file_extension": ".py",
   "mimetype": "text/x-python",
   "name": "python",
   "nbconvert_exporter": "python",
   "pygments_lexer": "ipython3",
   "version": "3.6.5"
  }
 },
 "nbformat": 4,
 "nbformat_minor": 2
}
